{
 "cells": [
  {
   "cell_type": "code",
   "execution_count": 21,
   "id": "15aa0aa7-30c5-4894-9eff-a212b02d500d",
   "metadata": {},
   "outputs": [],
   "source": [
    "# struct kd tree\n",
    "struct KDTreeNode\n",
    "    point::Vector{Float64}\n",
    "    left::Union{KDTreeNode, Nothing} # In Julia, Nothing the the type, nothing is an instance of Nothing\n",
    "    right::Union{KDTreeNode, Nothing}\n",
    "end"
   ]
  },
  {
   "cell_type": "code",
   "execution_count": 23,
   "id": "8607120c-2c27-4838-bedb-889351a16635",
   "metadata": {},
   "outputs": [
    {
     "data": {
      "text/plain": [
       "build_kdtree (generic function with 4 methods)"
      ]
     },
     "execution_count": 23,
     "metadata": {},
     "output_type": "execute_result"
    }
   ],
   "source": [
    "function build_kdtree(points::Matrix{Float64}, depth::Int=0)::Union{KDTreeNode, Nothing} # define paramether type with {}; return value using\"::\" and following the definition of the function\n",
    "    # For matrix n by k, n is the number of points, k is the data dimension\n",
    "    # If there are no points, return nothing\n",
    "    if size(points, 1) == 0\n",
    "        return nothing\n",
    "    end\n",
    "\n",
    "    # Select axis based on depth\n",
    "    k = size(points, 2)  # Number of dimensions\n",
    "    axis = mod(depth, k) + 1  # Cycle through dimensions. mod()is non-negative remainder; % can be negative\n",
    "\n",
    "    # Sort points by the current axis and choose median\n",
    "    sorted_points = points[sortperm(points[:,axis]),:]\n",
    "    median_idx = div(size(points, 1), 2) + 1\n",
    "    median_point = sorted_points[median_idx, :]\n",
    "\n",
    "    # Create the node and recursively build left and right subtrees\n",
    "    KDTreeNode(\n",
    "        median_point,\n",
    "        build_kdtree(sorted_points[1:median_idx-1, :], depth+1),\n",
    "        build_kdtree(sorted_points[median_idx+1:end, :], depth+1)\n",
    "    )\n",
    "end"
   ]
  },
  {
   "cell_type": "code",
   "execution_count": 24,
   "id": "5f46bfe6-058e-43f0-b383-788262dedb6d",
   "metadata": {},
   "outputs": [
    {
     "data": {
      "text/plain": [
       "print_kdtree (generic function with 2 methods)"
      ]
     },
     "execution_count": 24,
     "metadata": {},
     "output_type": "execute_result"
    }
   ],
   "source": [
    "# Function to print KD-tree (for debugging)\n",
    "function print_kdtree(node::Union{KDTreeNode, Nothing}, depth::Int=0)\n",
    "    if node === nothing\n",
    "        return\n",
    "    end\n",
    "\n",
    "    println(\"  \" ^ depth, \"Point: \", node.point)\n",
    "    print_kdtree(node.left, depth + 1)\n",
    "    print_kdtree(node.right, depth + 1)\n",
    "end"
   ]
  },
  {
   "cell_type": "code",
   "execution_count": 26,
   "id": "246342be-854c-459c-8a95-946bbfacb4f6",
   "metadata": {},
   "outputs": [
    {
     "name": "stdout",
     "output_type": "stream",
     "text": [
      "KD-Tree:\n",
      "Point: [6.0, 10.0, 2.0]\n",
      "  Point: [4.0, 2.0, 3.0]\n",
      "    Point: [2.0, 1.0, 8.0]\n",
      "      Point: [1.0, 2.0, 5.0]\n",
      "    Point: [3.0, 10.0, 7.0]\n",
      "      Point: [5.0, 4.0, 1.0]\n",
      "  Point: [7.0, 9.0, 6.0]\n",
      "    Point: [8.0, 8.0, 9.0]\n",
      "      Point: [9.0, 5.0, 6.0]\n",
      "    Point: [8.0, 9.0, 3.0]\n"
     ]
    }
   ],
   "source": [
    "points = Float64.(rand(1:10, 10, 3))  # 10 points in 3D space; Has to specify parameter type\n",
    "kdtree = build_kdtree(points)\n",
    "println(\"KD-Tree:\")\n",
    "print_kdtree(kdtree)"
   ]
  },
  {
   "cell_type": "code",
   "execution_count": null,
   "id": "812b2a98-0491-49a7-9e02-d8a037722cb4",
   "metadata": {},
   "outputs": [],
   "source": []
  }
 ],
 "metadata": {
  "kernelspec": {
   "display_name": "Julia 1.11.1",
   "language": "julia",
   "name": "julia-1.11"
  },
  "language_info": {
   "file_extension": ".jl",
   "mimetype": "application/julia",
   "name": "julia",
   "version": "1.11.1"
  }
 },
 "nbformat": 4,
 "nbformat_minor": 5
}
