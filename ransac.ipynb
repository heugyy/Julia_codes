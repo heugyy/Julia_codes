{
 "cells": [
  {
   "cell_type": "code",
   "execution_count": 140,
   "id": "215e6fef-17bd-4509-b67b-89df619c19fb",
   "metadata": {},
   "outputs": [
    {
     "data": {
      "text/plain": [
       "PyObject <module 'open3d' from '/Users/yanyanggu/.julia/conda/3/aarch64/lib/python3.12/site-packages/open3d/__init__.py'>"
      ]
     },
     "execution_count": 140,
     "metadata": {},
     "output_type": "execute_result"
    }
   ],
   "source": [
    "using Random\n",
    "using LinearAlgebra\n",
    "using PyCall\n",
    "open3d = pyimport(\"open3d\")"
   ]
  },
  {
   "cell_type": "code",
   "execution_count": 141,
   "id": "3501f398-e1f0-48f1-8e1e-f70801ce62b6",
   "metadata": {},
   "outputs": [
    {
     "data": {
      "text/plain": [
       "find_plane (generic function with 1 method)"
      ]
     },
     "execution_count": 141,
     "metadata": {},
     "output_type": "execute_result"
    }
   ],
   "source": [
    "function find_plane(pts, maxIteration, thresh)\n",
    "    n_points = size(pts, 1)\n",
    "    best_eq = []\n",
    "    best_inliers = []\n",
    "\n",
    "    for it in 1:maxIteration\n",
    "        # Samples 3 random points\n",
    "        id_samples = rand(1:n_points, 3)\n",
    "        pt_samples = pts[id_samples, :]\n",
    "\n",
    "        # Define two vectors on the plane\n",
    "        vecA = pt_samples[2, :] - pt_samples[1, :]\n",
    "        vecB = pt_samples[3, :] - pt_samples[1, :]\n",
    "\n",
    "        # Cross product to find the normal vector of the plane\n",
    "        vecC = cross(vecA, vecB)\n",
    "        vecC /= norm(vecC)  # Normalize the vector\n",
    "\n",
    "        # Compute the plane equation: vecC[1]*x + vecC[2]*y + vecC[3]*z = -k\n",
    "        k = -dot(vecC, pt_samples[2, :])\n",
    "        plane_eq = [vecC[1], vecC[2], vecC[3], k]\n",
    "\n",
    "        # Calculate distances from each point to the plane\n",
    "        dist_pt = (plane_eq[1] * pts[:, 1] .+ plane_eq[2] * pts[:, 2] .+ plane_eq[3] * pts[:, 3] .+ plane_eq[4]) /\n",
    "                  sqrt(plane_eq[1]^2 + plane_eq[2]^2 + plane_eq[3]^2)\n",
    "\n",
    "        # Select inliers within the threshold\n",
    "        pt_id_inliers = findall(abs.(dist_pt) .<= thresh)\n",
    "        \n",
    "        # Check if this is the best model so far\n",
    "        if length(pt_id_inliers) > length(best_inliers)\n",
    "            if plane_eq[3]<0.00001\n",
    "                best_eq = plane_eq\n",
    "                best_inliers = pt_id_inliers\n",
    "            end\n",
    "        end\n",
    "    end\n",
    "\n",
    "    return best_eq, best_inliers\n",
    "end"
   ]
  },
  {
   "cell_type": "code",
   "execution_count": 142,
   "id": "60339fc7-3ed1-42fe-b8f7-708b60a845eb",
   "metadata": {},
   "outputs": [
    {
     "name": "stdout",
     "output_type": "stream",
     "text": [
      "true\n"
     ]
    }
   ],
   "source": [
    "println(ispath(\"Downloads/TLS_kitchen.ply\"))\n",
    "file_path = \"Downloads/TLS_kitchen.ply\"    # Replace with your PLY file path\n",
    "\n",
    "# Load a PLY file\n",
    "mesh = open3d.io.read_point_cloud(file_path)\n",
    "\n",
    "# Visualize the mesh\n",
    "open3d.visualization.draw_geometries([mesh])"
   ]
  },
  {
   "cell_type": "code",
   "execution_count": 143,
   "id": "f0a81e6b-ea6f-4d71-ab06-c7ab4daef34e",
   "metadata": {},
   "outputs": [
    {
     "data": {
      "text/plain": [
       "369451-element Vector{Int64}:\n",
       "      1\n",
       "      2\n",
       "      3\n",
       "      4\n",
       "      6\n",
       "      7\n",
       "      8\n",
       "      9\n",
       "     10\n",
       "     11\n",
       "     12\n",
       "     14\n",
       "     15\n",
       "      ⋮\n",
       " 511015\n",
       " 511016\n",
       " 511017\n",
       " 511018\n",
       " 511019\n",
       " 511020\n",
       " 511021\n",
       " 511022\n",
       " 511023\n",
       " 511024\n",
       " 511025\n",
       " 511026"
      ]
     },
     "execution_count": 143,
     "metadata": {},
     "output_type": "execute_result"
    }
   ],
   "source": [
    "points = convert(Array{Float32}, mesh.points)\n",
    "plane, inliers = find_plane(points, 1000, 0.1)\n",
    "allindex = 1:size(points,1)\n",
    "outliers = setdiff(allindex, inliers)"
   ]
  },
  {
   "cell_type": "code",
   "execution_count": 144,
   "id": "086ffb5a-ee58-4453-8e00-ddb3f0b0ab67",
   "metadata": {},
   "outputs": [],
   "source": [
    "pcd = open3d.geometry.PointCloud()\n",
    "pcd.points = pycall(open3d.utility.Vector3dVector, PyObject, points[inliers,:])\n",
    "single_color = [1.0, 0.0, 0.0]  # Red color\n",
    "colors = [single_color for _ in 1:size(inliers, 1)]  # Assign the same color to all points\n",
    "# Set the colors to the point cloud\n",
    "pcd.colors = pycall(open3d.utility.Vector3dVector, PyObject, colors)\n",
    "\n",
    "pcd_o = open3d.geometry.PointCloud()\n",
    "pcd_o.points = pycall(open3d.utility.Vector3dVector, PyObject, points[outliers,:])\n",
    "single_color = [0.0, 0.0, 1.0]  # Red color\n",
    "colors = [single_color for _ in 1:size(outliers, 1)]  # Assign the same color to all points\n",
    "# Set the colors to the point cloud\n",
    "pcd_o.colors = pycall(open3d.utility.Vector3dVector, PyObject, colors)\n",
    "\n",
    "open3d.visualization.draw_geometries([pcd, pcd_o])"
   ]
  },
  {
   "cell_type": "code",
   "execution_count": null,
   "id": "d5c148c4-7418-4d15-825d-9182aa85ed05",
   "metadata": {},
   "outputs": [],
   "source": []
  }
 ],
 "metadata": {
  "kernelspec": {
   "display_name": "Julia 1.11.1",
   "language": "julia",
   "name": "julia-1.11"
  },
  "language_info": {
   "file_extension": ".jl",
   "mimetype": "application/julia",
   "name": "julia",
   "version": "1.11.1"
  }
 },
 "nbformat": 4,
 "nbformat_minor": 5
}
